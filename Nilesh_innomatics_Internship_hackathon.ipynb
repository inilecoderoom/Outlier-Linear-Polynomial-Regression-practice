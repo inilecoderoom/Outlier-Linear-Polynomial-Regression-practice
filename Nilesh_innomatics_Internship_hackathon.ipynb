{
 "cells": [
  {
   "cell_type": "markdown",
   "id": "454fed6a",
   "metadata": {},
   "source": [
    "### Hackathon for Innomatics Internship"
   ]
  },
  {
   "cell_type": "code",
   "execution_count": 100,
   "id": "04fb475e",
   "metadata": {},
   "outputs": [],
   "source": [
    "# importing required library\n",
    "import numpy as np\n",
    "import pandas as pd\n",
    "\n",
    "import matplotlib.pyplot as plt\n",
    "import seaborn as sns\n",
    "\n",
    "from sklearn.model_selection import train_test_split\n",
    "from sklearn.linear_model import LinearRegression\n",
    "from sklearn.preprocessing import PolynomialFeatures\n",
    "from sklearn import metrics"
   ]
  },
  {
   "cell_type": "code",
   "execution_count": 101,
   "id": "52920439",
   "metadata": {},
   "outputs": [],
   "source": [
    "# reading the given data\n",
    "dataF = pd.read_csv(\"data_2_var.csv\")"
   ]
  },
  {
   "cell_type": "code",
   "execution_count": 102,
   "id": "3d9f0d3b",
   "metadata": {},
   "outputs": [
    {
     "data": {
      "text/html": [
       "<div>\n",
       "<style scoped>\n",
       "    .dataframe tbody tr th:only-of-type {\n",
       "        vertical-align: middle;\n",
       "    }\n",
       "\n",
       "    .dataframe tbody tr th {\n",
       "        vertical-align: top;\n",
       "    }\n",
       "\n",
       "    .dataframe thead th {\n",
       "        text-align: right;\n",
       "    }\n",
       "</style>\n",
       "<table border=\"1\" class=\"dataframe\">\n",
       "  <thead>\n",
       "    <tr style=\"text-align: right;\">\n",
       "      <th></th>\n",
       "      <th>-122.7406674</th>\n",
       "      <th>-130.5720846</th>\n",
       "    </tr>\n",
       "  </thead>\n",
       "  <tbody>\n",
       "    <tr>\n",
       "      <th>0</th>\n",
       "      <td>-121.531419</td>\n",
       "      <td>-129.938929</td>\n",
       "    </tr>\n",
       "    <tr>\n",
       "      <th>1</th>\n",
       "      <td>-134.917019</td>\n",
       "      <td>-130.141832</td>\n",
       "    </tr>\n",
       "    <tr>\n",
       "      <th>2</th>\n",
       "      <td>-120.605951</td>\n",
       "      <td>-125.760932</td>\n",
       "    </tr>\n",
       "    <tr>\n",
       "      <th>3</th>\n",
       "      <td>-129.894781</td>\n",
       "      <td>-112.785214</td>\n",
       "    </tr>\n",
       "    <tr>\n",
       "      <th>4</th>\n",
       "      <td>-134.366669</td>\n",
       "      <td>-116.000000</td>\n",
       "    </tr>\n",
       "  </tbody>\n",
       "</table>\n",
       "</div>"
      ],
      "text/plain": [
       "   -122.7406674  -130.5720846\n",
       "0   -121.531419   -129.938929\n",
       "1   -134.917019   -130.141832\n",
       "2   -120.605951   -125.760932\n",
       "3   -129.894781   -112.785214\n",
       "4   -134.366669   -116.000000"
      ]
     },
     "execution_count": 102,
     "metadata": {},
     "output_type": "execute_result"
    }
   ],
   "source": [
    "# displaying data\n",
    "dataF.head()"
   ]
  },
  {
   "cell_type": "code",
   "execution_count": 103,
   "id": "87339a99",
   "metadata": {},
   "outputs": [
    {
     "data": {
      "text/html": [
       "<div>\n",
       "<style scoped>\n",
       "    .dataframe tbody tr th:only-of-type {\n",
       "        vertical-align: middle;\n",
       "    }\n",
       "\n",
       "    .dataframe tbody tr th {\n",
       "        vertical-align: top;\n",
       "    }\n",
       "\n",
       "    .dataframe thead th {\n",
       "        text-align: right;\n",
       "    }\n",
       "</style>\n",
       "<table border=\"1\" class=\"dataframe\">\n",
       "  <thead>\n",
       "    <tr style=\"text-align: right;\">\n",
       "      <th></th>\n",
       "      <th>-122.7406674</th>\n",
       "      <th>-130.5720846</th>\n",
       "    </tr>\n",
       "  </thead>\n",
       "  <tbody>\n",
       "    <tr>\n",
       "      <th>534</th>\n",
       "      <td>80.633331</td>\n",
       "      <td>6.000000</td>\n",
       "    </tr>\n",
       "    <tr>\n",
       "      <th>375</th>\n",
       "      <td>56.633331</td>\n",
       "      <td>-35.000000</td>\n",
       "    </tr>\n",
       "    <tr>\n",
       "      <th>969</th>\n",
       "      <td>60.458218</td>\n",
       "      <td>-89.164895</td>\n",
       "    </tr>\n",
       "  </tbody>\n",
       "</table>\n",
       "</div>"
      ],
      "text/plain": [
       "     -122.7406674  -130.5720846\n",
       "534     80.633331      6.000000\n",
       "375     56.633331    -35.000000\n",
       "969     60.458218    -89.164895"
      ]
     },
     "execution_count": 103,
     "metadata": {},
     "output_type": "execute_result"
    }
   ],
   "source": [
    "dataF.sample(3)"
   ]
  },
  {
   "cell_type": "code",
   "execution_count": 104,
   "id": "3139cf97",
   "metadata": {},
   "outputs": [
    {
     "data": {
      "text/html": [
       "<div>\n",
       "<style scoped>\n",
       "    .dataframe tbody tr th:only-of-type {\n",
       "        vertical-align: middle;\n",
       "    }\n",
       "\n",
       "    .dataframe tbody tr th {\n",
       "        vertical-align: top;\n",
       "    }\n",
       "\n",
       "    .dataframe thead th {\n",
       "        text-align: right;\n",
       "    }\n",
       "</style>\n",
       "<table border=\"1\" class=\"dataframe\">\n",
       "  <thead>\n",
       "    <tr style=\"text-align: right;\">\n",
       "      <th></th>\n",
       "      <th>-122.7406674</th>\n",
       "      <th>-130.5720846</th>\n",
       "    </tr>\n",
       "  </thead>\n",
       "  <tbody>\n",
       "    <tr>\n",
       "      <th>1106</th>\n",
       "      <td>-119.954237</td>\n",
       "      <td>123.609122</td>\n",
       "    </tr>\n",
       "    <tr>\n",
       "      <th>1107</th>\n",
       "      <td>-109.942155</td>\n",
       "      <td>127.197394</td>\n",
       "    </tr>\n",
       "    <tr>\n",
       "      <th>1108</th>\n",
       "      <td>-111.515368</td>\n",
       "      <td>128.170885</td>\n",
       "    </tr>\n",
       "    <tr>\n",
       "      <th>1109</th>\n",
       "      <td>-110.344221</td>\n",
       "      <td>123.087950</td>\n",
       "    </tr>\n",
       "  </tbody>\n",
       "</table>\n",
       "</div>"
      ],
      "text/plain": [
       "      -122.7406674  -130.5720846\n",
       "1106   -119.954237    123.609122\n",
       "1107   -109.942155    127.197394\n",
       "1108   -111.515368    128.170885\n",
       "1109   -110.344221    123.087950"
      ]
     },
     "execution_count": 104,
     "metadata": {},
     "output_type": "execute_result"
    }
   ],
   "source": [
    "dataF.tail(4)"
   ]
  },
  {
   "cell_type": "code",
   "execution_count": 105,
   "id": "d67da866",
   "metadata": {},
   "outputs": [
    {
     "data": {
      "text/plain": [
       "(1110, 2)"
      ]
     },
     "execution_count": 105,
     "metadata": {},
     "output_type": "execute_result"
    }
   ],
   "source": [
    "# finding the shape of the dataframe\n",
    "dataF.shape"
   ]
  },
  {
   "cell_type": "code",
   "execution_count": 106,
   "id": "0a05b31f",
   "metadata": {},
   "outputs": [
    {
     "data": {
      "text/plain": [
       "Index(['-122.7406674', '-130.5720846'], dtype='object')"
      ]
     },
     "execution_count": 106,
     "metadata": {},
     "output_type": "execute_result"
    }
   ],
   "source": [
    "dataF.columns"
   ]
  },
  {
   "cell_type": "code",
   "execution_count": 107,
   "id": "e46788b8",
   "metadata": {},
   "outputs": [
    {
     "name": "stdout",
     "output_type": "stream",
     "text": [
      "<class 'pandas.core.frame.DataFrame'>\n",
      "RangeIndex: 1110 entries, 0 to 1109\n",
      "Data columns (total 2 columns):\n",
      " #   Column        Non-Null Count  Dtype  \n",
      "---  ------        --------------  -----  \n",
      " 0   -122.7406674  1110 non-null   float64\n",
      " 1   -130.5720846  1110 non-null   float64\n",
      "dtypes: float64(2)\n",
      "memory usage: 17.5 KB\n"
     ]
    }
   ],
   "source": [
    "dataF.info()"
   ]
  },
  {
   "cell_type": "code",
   "execution_count": 108,
   "id": "24a5ca2d",
   "metadata": {},
   "outputs": [],
   "source": [
    "# the given dataset is having 1110 rows and 2 columns.\n",
    "# there is no null value in the given dataset.\n",
    "# the datatype of all column is float64"
   ]
  },
  {
   "cell_type": "code",
   "execution_count": 109,
   "id": "682950a7",
   "metadata": {},
   "outputs": [
    {
     "data": {
      "text/html": [
       "<div>\n",
       "<style scoped>\n",
       "    .dataframe tbody tr th:only-of-type {\n",
       "        vertical-align: middle;\n",
       "    }\n",
       "\n",
       "    .dataframe tbody tr th {\n",
       "        vertical-align: top;\n",
       "    }\n",
       "\n",
       "    .dataframe thead th {\n",
       "        text-align: right;\n",
       "    }\n",
       "</style>\n",
       "<table border=\"1\" class=\"dataframe\">\n",
       "  <thead>\n",
       "    <tr style=\"text-align: right;\">\n",
       "      <th></th>\n",
       "      <th>-122.7406674</th>\n",
       "      <th>-130.5720846</th>\n",
       "    </tr>\n",
       "  </thead>\n",
       "  <tbody>\n",
       "    <tr>\n",
       "      <th>count</th>\n",
       "      <td>1110.000000</td>\n",
       "      <td>1110.000000</td>\n",
       "    </tr>\n",
       "    <tr>\n",
       "      <th>mean</th>\n",
       "      <td>6.899714</td>\n",
       "      <td>-26.093318</td>\n",
       "    </tr>\n",
       "    <tr>\n",
       "      <th>std</th>\n",
       "      <td>79.324069</td>\n",
       "      <td>69.755980</td>\n",
       "    </tr>\n",
       "    <tr>\n",
       "      <th>min</th>\n",
       "      <td>-134.962839</td>\n",
       "      <td>-132.422167</td>\n",
       "    </tr>\n",
       "    <tr>\n",
       "      <th>25%</th>\n",
       "      <td>-53.366669</td>\n",
       "      <td>-76.994298</td>\n",
       "    </tr>\n",
       "    <tr>\n",
       "      <th>50%</th>\n",
       "      <td>15.739103</td>\n",
       "      <td>-46.036319</td>\n",
       "    </tr>\n",
       "    <tr>\n",
       "      <th>75%</th>\n",
       "      <td>76.193907</td>\n",
       "      <td>7.598960</td>\n",
       "    </tr>\n",
       "    <tr>\n",
       "      <th>max</th>\n",
       "      <td>134.605775</td>\n",
       "      <td>134.425495</td>\n",
       "    </tr>\n",
       "  </tbody>\n",
       "</table>\n",
       "</div>"
      ],
      "text/plain": [
       "       -122.7406674  -130.5720846\n",
       "count   1110.000000   1110.000000\n",
       "mean       6.899714    -26.093318\n",
       "std       79.324069     69.755980\n",
       "min     -134.962839   -132.422167\n",
       "25%      -53.366669    -76.994298\n",
       "50%       15.739103    -46.036319\n",
       "75%       76.193907      7.598960\n",
       "max      134.605775    134.425495"
      ]
     },
     "execution_count": 109,
     "metadata": {},
     "output_type": "execute_result"
    }
   ],
   "source": [
    "dataF.describe()"
   ]
  },
  {
   "cell_type": "code",
   "execution_count": 110,
   "id": "58bcb2d8",
   "metadata": {},
   "outputs": [],
   "source": [
    "# here mean, min, max standard deviation and quartiles can be observed for both the column of the given dataset"
   ]
  },
  {
   "cell_type": "code",
   "execution_count": 111,
   "id": "43e76901",
   "metadata": {},
   "outputs": [
    {
     "data": {
      "text/html": [
       "<div>\n",
       "<style scoped>\n",
       "    .dataframe tbody tr th:only-of-type {\n",
       "        vertical-align: middle;\n",
       "    }\n",
       "\n",
       "    .dataframe tbody tr th {\n",
       "        vertical-align: top;\n",
       "    }\n",
       "\n",
       "    .dataframe thead th {\n",
       "        text-align: right;\n",
       "    }\n",
       "</style>\n",
       "<table border=\"1\" class=\"dataframe\">\n",
       "  <thead>\n",
       "    <tr style=\"text-align: right;\">\n",
       "      <th></th>\n",
       "      <th>-122.7406674</th>\n",
       "      <th>-130.5720846</th>\n",
       "    </tr>\n",
       "  </thead>\n",
       "  <tbody>\n",
       "    <tr>\n",
       "      <th>0</th>\n",
       "      <td>-121.531419</td>\n",
       "      <td>-129.938929</td>\n",
       "    </tr>\n",
       "    <tr>\n",
       "      <th>1</th>\n",
       "      <td>-134.917019</td>\n",
       "      <td>-130.141832</td>\n",
       "    </tr>\n",
       "    <tr>\n",
       "      <th>2</th>\n",
       "      <td>-120.605951</td>\n",
       "      <td>-125.760932</td>\n",
       "    </tr>\n",
       "    <tr>\n",
       "      <th>3</th>\n",
       "      <td>-129.894781</td>\n",
       "      <td>-112.785214</td>\n",
       "    </tr>\n",
       "    <tr>\n",
       "      <th>4</th>\n",
       "      <td>-134.366669</td>\n",
       "      <td>-116.000000</td>\n",
       "    </tr>\n",
       "    <tr>\n",
       "      <th>...</th>\n",
       "      <td>...</td>\n",
       "      <td>...</td>\n",
       "    </tr>\n",
       "    <tr>\n",
       "      <th>1105</th>\n",
       "      <td>-115.366669</td>\n",
       "      <td>121.000000</td>\n",
       "    </tr>\n",
       "    <tr>\n",
       "      <th>1106</th>\n",
       "      <td>-119.954237</td>\n",
       "      <td>123.609122</td>\n",
       "    </tr>\n",
       "    <tr>\n",
       "      <th>1107</th>\n",
       "      <td>-109.942155</td>\n",
       "      <td>127.197394</td>\n",
       "    </tr>\n",
       "    <tr>\n",
       "      <th>1108</th>\n",
       "      <td>-111.515368</td>\n",
       "      <td>128.170885</td>\n",
       "    </tr>\n",
       "    <tr>\n",
       "      <th>1109</th>\n",
       "      <td>-110.344221</td>\n",
       "      <td>123.087950</td>\n",
       "    </tr>\n",
       "  </tbody>\n",
       "</table>\n",
       "<p>1110 rows × 2 columns</p>\n",
       "</div>"
      ],
      "text/plain": [
       "      -122.7406674  -130.5720846\n",
       "0      -121.531419   -129.938929\n",
       "1      -134.917019   -130.141832\n",
       "2      -120.605951   -125.760932\n",
       "3      -129.894781   -112.785214\n",
       "4      -134.366669   -116.000000\n",
       "...            ...           ...\n",
       "1105   -115.366669    121.000000\n",
       "1106   -119.954237    123.609122\n",
       "1107   -109.942155    127.197394\n",
       "1108   -111.515368    128.170885\n",
       "1109   -110.344221    123.087950\n",
       "\n",
       "[1110 rows x 2 columns]"
      ]
     },
     "execution_count": 111,
     "metadata": {},
     "output_type": "execute_result"
    }
   ],
   "source": [
    "dataF"
   ]
  },
  {
   "cell_type": "code",
   "execution_count": 112,
   "id": "8411ce9f",
   "metadata": {},
   "outputs": [],
   "source": [
    "# renaming the dataframe for better readability\n",
    "col = ['lat','long']"
   ]
  },
  {
   "cell_type": "code",
   "execution_count": 113,
   "id": "14c703ea",
   "metadata": {},
   "outputs": [],
   "source": [
    "dataF.columns = col"
   ]
  },
  {
   "cell_type": "code",
   "execution_count": 114,
   "id": "a78705f4",
   "metadata": {},
   "outputs": [
    {
     "data": {
      "text/html": [
       "<div>\n",
       "<style scoped>\n",
       "    .dataframe tbody tr th:only-of-type {\n",
       "        vertical-align: middle;\n",
       "    }\n",
       "\n",
       "    .dataframe tbody tr th {\n",
       "        vertical-align: top;\n",
       "    }\n",
       "\n",
       "    .dataframe thead th {\n",
       "        text-align: right;\n",
       "    }\n",
       "</style>\n",
       "<table border=\"1\" class=\"dataframe\">\n",
       "  <thead>\n",
       "    <tr style=\"text-align: right;\">\n",
       "      <th></th>\n",
       "      <th>lat</th>\n",
       "      <th>long</th>\n",
       "    </tr>\n",
       "  </thead>\n",
       "  <tbody>\n",
       "    <tr>\n",
       "      <th>0</th>\n",
       "      <td>-121.531419</td>\n",
       "      <td>-129.938929</td>\n",
       "    </tr>\n",
       "    <tr>\n",
       "      <th>1</th>\n",
       "      <td>-134.917019</td>\n",
       "      <td>-130.141832</td>\n",
       "    </tr>\n",
       "    <tr>\n",
       "      <th>2</th>\n",
       "      <td>-120.605951</td>\n",
       "      <td>-125.760932</td>\n",
       "    </tr>\n",
       "    <tr>\n",
       "      <th>3</th>\n",
       "      <td>-129.894781</td>\n",
       "      <td>-112.785214</td>\n",
       "    </tr>\n",
       "    <tr>\n",
       "      <th>4</th>\n",
       "      <td>-134.366669</td>\n",
       "      <td>-116.000000</td>\n",
       "    </tr>\n",
       "    <tr>\n",
       "      <th>...</th>\n",
       "      <td>...</td>\n",
       "      <td>...</td>\n",
       "    </tr>\n",
       "    <tr>\n",
       "      <th>1105</th>\n",
       "      <td>-115.366669</td>\n",
       "      <td>121.000000</td>\n",
       "    </tr>\n",
       "    <tr>\n",
       "      <th>1106</th>\n",
       "      <td>-119.954237</td>\n",
       "      <td>123.609122</td>\n",
       "    </tr>\n",
       "    <tr>\n",
       "      <th>1107</th>\n",
       "      <td>-109.942155</td>\n",
       "      <td>127.197394</td>\n",
       "    </tr>\n",
       "    <tr>\n",
       "      <th>1108</th>\n",
       "      <td>-111.515368</td>\n",
       "      <td>128.170885</td>\n",
       "    </tr>\n",
       "    <tr>\n",
       "      <th>1109</th>\n",
       "      <td>-110.344221</td>\n",
       "      <td>123.087950</td>\n",
       "    </tr>\n",
       "  </tbody>\n",
       "</table>\n",
       "<p>1110 rows × 2 columns</p>\n",
       "</div>"
      ],
      "text/plain": [
       "             lat        long\n",
       "0    -121.531419 -129.938929\n",
       "1    -134.917019 -130.141832\n",
       "2    -120.605951 -125.760932\n",
       "3    -129.894781 -112.785214\n",
       "4    -134.366669 -116.000000\n",
       "...          ...         ...\n",
       "1105 -115.366669  121.000000\n",
       "1106 -119.954237  123.609122\n",
       "1107 -109.942155  127.197394\n",
       "1108 -111.515368  128.170885\n",
       "1109 -110.344221  123.087950\n",
       "\n",
       "[1110 rows x 2 columns]"
      ]
     },
     "execution_count": 114,
     "metadata": {},
     "output_type": "execute_result"
    }
   ],
   "source": [
    "dataF"
   ]
  },
  {
   "cell_type": "markdown",
   "id": "2b222c74",
   "metadata": {},
   "source": [
    "#### plotting the scatter plot to check outliers"
   ]
  },
  {
   "cell_type": "code",
   "execution_count": 115,
   "id": "3157461c",
   "metadata": {},
   "outputs": [
    {
     "data": {
      "image/png": "[encoded data removed]",
      "text/plain": [
       "<Figure size 432x288 with 1 Axes>"
      ]
     },
     "metadata": {
      "needs_background": "light"
     },
     "output_type": "display_data"
    }
   ],
   "source": [
    "plt.scatter(dataF['lat'], dataF['long'], c =\"blue\")\n",
    "plt.show()"
   ]
  },
  {
   "cell_type": "code",
   "execution_count": 116,
   "id": "487af988",
   "metadata": {},
   "outputs": [],
   "source": [
    "# after looking at the dataset scatter plot, it can be observed that the dataset is having outliers\n",
    "# some data with x < -100 and y > 100 can be detected as OUTLIERS"
   ]
  },
  {
   "cell_type": "code",
   "execution_count": 117,
   "id": "b290d0a1",
   "metadata": {},
   "outputs": [
    {
     "data": {
      "text/plain": [
       "<AxesSubplot:>"
      ]
     },
     "execution_count": 117,
     "metadata": {},
     "output_type": "execute_result"
    },
    {
     "data": {
      "image/png": "[encoded data removed]",
      "text/plain": [
       "<Figure size 432x288 with 1 Axes>"
      ]
     },
     "metadata": {
      "needs_background": "light"
     },
     "output_type": "display_data"
    }
   ],
   "source": [
    "sns.boxplot(data=dataF, orient=\"h\")"
   ]
  },
  {
   "cell_type": "code",
   "execution_count": 118,
   "id": "65e9d68e",
   "metadata": {},
   "outputs": [
    {
     "data": {
      "text/plain": [
       "<AxesSubplot:>"
      ]
     },
     "execution_count": 118,
     "metadata": {},
     "output_type": "execute_result"
    },
    {
     "data": {
      "image/png": "[encoded data removed]",
      "text/plain": [
       "<Figure size 432x288 with 1 Axes>"
      ]
     },
     "metadata": {
      "needs_background": "light"
     },
     "output_type": "display_data"
    }
   ],
   "source": [
    "sns.boxplot(data=dataF['lat'], orient=\"h\")"
   ]
  },
  {
   "cell_type": "code",
   "execution_count": 119,
   "id": "5a9f006a",
   "metadata": {},
   "outputs": [
    {
     "data": {
      "text/plain": [
       "<AxesSubplot:>"
      ]
     },
     "execution_count": 119,
     "metadata": {},
     "output_type": "execute_result"
    },
    {
     "data": {
      "image/png": "[encoded data removed]",
      "text/plain": [
       "<Figure size 432x288 with 1 Axes>"
      ]
     },
     "metadata": {
      "needs_background": "light"
     },
     "output_type": "display_data"
    }
   ],
   "source": [
    "sns.boxplot(data=dataF['long'], orient=\"h\")"
   ]
  },
  {
   "cell_type": "code",
   "execution_count": 120,
   "id": "b19e701e",
   "metadata": {},
   "outputs": [],
   "source": [
    "# from the observation of boxplot outlier is not detected but \n",
    "# there is outlier present in dataset as dipicted by scatter plot"
   ]
  },
  {
   "cell_type": "markdown",
   "id": "46f81ce9",
   "metadata": {},
   "source": [
    "#### Outlier detection and Treatement"
   ]
  },
  {
   "cell_type": "code",
   "execution_count": 121,
   "id": "71c5d322",
   "metadata": {},
   "outputs": [],
   "source": [
    "def outlier_detection_and_treatment(col):\n",
    "    sorted(col)\n",
    "    q1,q3 = np.percentile(col , [25,75])\n",
    "    IQR = q3-q1\n",
    "    min_val = q1-(1.5 * IQR)\n",
    "    max_val = q3+(1.5 * IQR)\n",
    "    return min_val,max_val"
   ]
  },
  {
   "cell_type": "code",
   "execution_count": 122,
   "id": "215e4de7",
   "metadata": {},
   "outputs": [],
   "source": [
    "min_val_lat,max_val_lat = outlier_detection_and_treatment(dataF['lat'])\n",
    "min_val_long,max_val_long = outlier_detection_and_treatment(dataF['long'])"
   ]
  },
  {
   "cell_type": "code",
   "execution_count": 123,
   "id": "4c9eac9b",
   "metadata": {},
   "outputs": [
    {
     "data": {
      "text/html": [
       "<div>\n",
       "<style scoped>\n",
       "    .dataframe tbody tr th:only-of-type {\n",
       "        vertical-align: middle;\n",
       "    }\n",
       "\n",
       "    .dataframe tbody tr th {\n",
       "        vertical-align: top;\n",
       "    }\n",
       "\n",
       "    .dataframe thead th {\n",
       "        text-align: right;\n",
       "    }\n",
       "</style>\n",
       "<table border=\"1\" class=\"dataframe\">\n",
       "  <thead>\n",
       "    <tr style=\"text-align: right;\">\n",
       "      <th></th>\n",
       "      <th>lat</th>\n",
       "      <th>long</th>\n",
       "    </tr>\n",
       "  </thead>\n",
       "  <tbody>\n",
       "  </tbody>\n",
       "</table>\n",
       "</div>"
      ],
      "text/plain": [
       "Empty DataFrame\n",
       "Columns: [lat, long]\n",
       "Index: []"
      ]
     },
     "execution_count": 123,
     "metadata": {},
     "output_type": "execute_result"
    }
   ],
   "source": [
    "dataF[(dataF['lat'] < min_val_lat) | (dataF['lat'] > max_val_lat)]"
   ]
  },
  {
   "cell_type": "code",
   "execution_count": 124,
   "id": "a6df3f70",
   "metadata": {},
   "outputs": [
    {
     "data": {
      "text/html": [
       "<div>\n",
       "<style scoped>\n",
       "    .dataframe tbody tr th:only-of-type {\n",
       "        vertical-align: middle;\n",
       "    }\n",
       "\n",
       "    .dataframe tbody tr th {\n",
       "        vertical-align: top;\n",
       "    }\n",
       "\n",
       "    .dataframe thead th {\n",
       "        text-align: right;\n",
       "    }\n",
       "</style>\n",
       "<table border=\"1\" class=\"dataframe\">\n",
       "  <thead>\n",
       "    <tr style=\"text-align: right;\">\n",
       "      <th></th>\n",
       "      <th>lat</th>\n",
       "      <th>long</th>\n",
       "    </tr>\n",
       "  </thead>\n",
       "  <tbody>\n",
       "  </tbody>\n",
       "</table>\n",
       "</div>"
      ],
      "text/plain": [
       "Empty DataFrame\n",
       "Columns: [lat, long]\n",
       "Index: []"
      ]
     },
     "execution_count": 124,
     "metadata": {},
     "output_type": "execute_result"
    }
   ],
   "source": [
    "dataF[(dataF['long'] < min_val_long) | (dataF['long'] > max_val_long)]"
   ]
  },
  {
   "cell_type": "code",
   "execution_count": 125,
   "id": "0a0d4dc8",
   "metadata": {},
   "outputs": [
    {
     "data": {
      "text/html": [
       "<div>\n",
       "<style scoped>\n",
       "    .dataframe tbody tr th:only-of-type {\n",
       "        vertical-align: middle;\n",
       "    }\n",
       "\n",
       "    .dataframe tbody tr th {\n",
       "        vertical-align: top;\n",
       "    }\n",
       "\n",
       "    .dataframe thead th {\n",
       "        text-align: right;\n",
       "    }\n",
       "</style>\n",
       "<table border=\"1\" class=\"dataframe\">\n",
       "  <thead>\n",
       "    <tr style=\"text-align: right;\">\n",
       "      <th></th>\n",
       "      <th>lat</th>\n",
       "      <th>long</th>\n",
       "    </tr>\n",
       "  </thead>\n",
       "  <tbody>\n",
       "    <tr>\n",
       "      <th>1071</th>\n",
       "      <td>-125.366669</td>\n",
       "      <td>131.000000</td>\n",
       "    </tr>\n",
       "    <tr>\n",
       "      <th>1072</th>\n",
       "      <td>-114.508654</td>\n",
       "      <td>132.424802</td>\n",
       "    </tr>\n",
       "    <tr>\n",
       "      <th>1073</th>\n",
       "      <td>-125.366669</td>\n",
       "      <td>131.000000</td>\n",
       "    </tr>\n",
       "    <tr>\n",
       "      <th>1074</th>\n",
       "      <td>-125.366669</td>\n",
       "      <td>131.000000</td>\n",
       "    </tr>\n",
       "    <tr>\n",
       "      <th>1075</th>\n",
       "      <td>-126.029114</td>\n",
       "      <td>123.060597</td>\n",
       "    </tr>\n",
       "    <tr>\n",
       "      <th>1076</th>\n",
       "      <td>-106.093619</td>\n",
       "      <td>118.532422</td>\n",
       "    </tr>\n",
       "    <tr>\n",
       "      <th>1077</th>\n",
       "      <td>-125.366669</td>\n",
       "      <td>131.000000</td>\n",
       "    </tr>\n",
       "    <tr>\n",
       "      <th>1078</th>\n",
       "      <td>-116.197531</td>\n",
       "      <td>126.190248</td>\n",
       "    </tr>\n",
       "    <tr>\n",
       "      <th>1079</th>\n",
       "      <td>-125.366669</td>\n",
       "      <td>131.000000</td>\n",
       "    </tr>\n",
       "    <tr>\n",
       "      <th>1080</th>\n",
       "      <td>-111.529664</td>\n",
       "      <td>133.579278</td>\n",
       "    </tr>\n",
       "    <tr>\n",
       "      <th>1081</th>\n",
       "      <td>-125.366669</td>\n",
       "      <td>131.000000</td>\n",
       "    </tr>\n",
       "    <tr>\n",
       "      <th>1082</th>\n",
       "      <td>-132.359238</td>\n",
       "      <td>112.246716</td>\n",
       "    </tr>\n",
       "    <tr>\n",
       "      <th>1083</th>\n",
       "      <td>-125.366669</td>\n",
       "      <td>131.000000</td>\n",
       "    </tr>\n",
       "    <tr>\n",
       "      <th>1084</th>\n",
       "      <td>-110.784447</td>\n",
       "      <td>128.940195</td>\n",
       "    </tr>\n",
       "    <tr>\n",
       "      <th>1085</th>\n",
       "      <td>-112.467825</td>\n",
       "      <td>131.374738</td>\n",
       "    </tr>\n",
       "    <tr>\n",
       "      <th>1086</th>\n",
       "      <td>-125.366669</td>\n",
       "      <td>131.000000</td>\n",
       "    </tr>\n",
       "    <tr>\n",
       "      <th>1087</th>\n",
       "      <td>-117.609424</td>\n",
       "      <td>128.249695</td>\n",
       "    </tr>\n",
       "    <tr>\n",
       "      <th>1088</th>\n",
       "      <td>-125.366669</td>\n",
       "      <td>131.000000</td>\n",
       "    </tr>\n",
       "    <tr>\n",
       "      <th>1089</th>\n",
       "      <td>-118.632322</td>\n",
       "      <td>128.812515</td>\n",
       "    </tr>\n",
       "    <tr>\n",
       "      <th>1090</th>\n",
       "      <td>-124.366669</td>\n",
       "      <td>121.000000</td>\n",
       "    </tr>\n",
       "    <tr>\n",
       "      <th>1091</th>\n",
       "      <td>-124.237735</td>\n",
       "      <td>124.357397</td>\n",
       "    </tr>\n",
       "    <tr>\n",
       "      <th>1092</th>\n",
       "      <td>-122.813233</td>\n",
       "      <td>117.690062</td>\n",
       "    </tr>\n",
       "    <tr>\n",
       "      <th>1093</th>\n",
       "      <td>-125.905898</td>\n",
       "      <td>122.217012</td>\n",
       "    </tr>\n",
       "    <tr>\n",
       "      <th>1094</th>\n",
       "      <td>-122.657287</td>\n",
       "      <td>114.233174</td>\n",
       "    </tr>\n",
       "    <tr>\n",
       "      <th>1095</th>\n",
       "      <td>-124.366669</td>\n",
       "      <td>121.000000</td>\n",
       "    </tr>\n",
       "    <tr>\n",
       "      <th>1096</th>\n",
       "      <td>-121.687849</td>\n",
       "      <td>127.444778</td>\n",
       "    </tr>\n",
       "    <tr>\n",
       "      <th>1097</th>\n",
       "      <td>-130.878119</td>\n",
       "      <td>124.317133</td>\n",
       "    </tr>\n",
       "    <tr>\n",
       "      <th>1098</th>\n",
       "      <td>-131.883286</td>\n",
       "      <td>121.266110</td>\n",
       "    </tr>\n",
       "    <tr>\n",
       "      <th>1099</th>\n",
       "      <td>-123.371849</td>\n",
       "      <td>123.189683</td>\n",
       "    </tr>\n",
       "    <tr>\n",
       "      <th>1100</th>\n",
       "      <td>-115.366669</td>\n",
       "      <td>121.000000</td>\n",
       "    </tr>\n",
       "    <tr>\n",
       "      <th>1101</th>\n",
       "      <td>-122.657676</td>\n",
       "      <td>124.699202</td>\n",
       "    </tr>\n",
       "    <tr>\n",
       "      <th>1102</th>\n",
       "      <td>-122.879792</td>\n",
       "      <td>125.834014</td>\n",
       "    </tr>\n",
       "    <tr>\n",
       "      <th>1103</th>\n",
       "      <td>-117.945503</td>\n",
       "      <td>126.797385</td>\n",
       "    </tr>\n",
       "    <tr>\n",
       "      <th>1104</th>\n",
       "      <td>-112.018496</td>\n",
       "      <td>121.096397</td>\n",
       "    </tr>\n",
       "    <tr>\n",
       "      <th>1105</th>\n",
       "      <td>-115.366669</td>\n",
       "      <td>121.000000</td>\n",
       "    </tr>\n",
       "    <tr>\n",
       "      <th>1106</th>\n",
       "      <td>-119.954237</td>\n",
       "      <td>123.609122</td>\n",
       "    </tr>\n",
       "    <tr>\n",
       "      <th>1107</th>\n",
       "      <td>-109.942155</td>\n",
       "      <td>127.197394</td>\n",
       "    </tr>\n",
       "    <tr>\n",
       "      <th>1108</th>\n",
       "      <td>-111.515368</td>\n",
       "      <td>128.170885</td>\n",
       "    </tr>\n",
       "    <tr>\n",
       "      <th>1109</th>\n",
       "      <td>-110.344221</td>\n",
       "      <td>123.087950</td>\n",
       "    </tr>\n",
       "  </tbody>\n",
       "</table>\n",
       "</div>"
      ],
      "text/plain": [
       "             lat        long\n",
       "1071 -125.366669  131.000000\n",
       "1072 -114.508654  132.424802\n",
       "1073 -125.366669  131.000000\n",
       "1074 -125.366669  131.000000\n",
       "1075 -126.029114  123.060597\n",
       "1076 -106.093619  118.532422\n",
       "1077 -125.366669  131.000000\n",
       "1078 -116.197531  126.190248\n",
       "1079 -125.366669  131.000000\n",
       "1080 -111.529664  133.579278\n",
       "1081 -125.366669  131.000000\n",
       "1082 -132.359238  112.246716\n",
       "1083 -125.366669  131.000000\n",
       "1084 -110.784447  128.940195\n",
       "1085 -112.467825  131.374738\n",
       "1086 -125.366669  131.000000\n",
       "1087 -117.609424  128.249695\n",
       "1088 -125.366669  131.000000\n",
       "1089 -118.632322  128.812515\n",
       "1090 -124.366669  121.000000\n",
       "1091 -124.237735  124.357397\n",
       "1092 -122.813233  117.690062\n",
       "1093 -125.905898  122.217012\n",
       "1094 -122.657287  114.233174\n",
       "1095 -124.366669  121.000000\n",
       "1096 -121.687849  127.444778\n",
       "1097 -130.878119  124.317133\n",
       "1098 -131.883286  121.266110\n",
       "1099 -123.371849  123.189683\n",
       "1100 -115.366669  121.000000\n",
       "1101 -122.657676  124.699202\n",
       "1102 -122.879792  125.834014\n",
       "1103 -117.945503  126.797385\n",
       "1104 -112.018496  121.096397\n",
       "1105 -115.366669  121.000000\n",
       "1106 -119.954237  123.609122\n",
       "1107 -109.942155  127.197394\n",
       "1108 -111.515368  128.170885\n",
       "1109 -110.344221  123.087950"
      ]
     },
     "execution_count": 125,
     "metadata": {},
     "output_type": "execute_result"
    }
   ],
   "source": [
    "# a look at outlier data after observation from scatter plot\n",
    "dataF[(dataF['lat'] < -100) & (dataF['long'] > 100)]"
   ]
  },
  {
   "cell_type": "code",
   "execution_count": 126,
   "id": "bd821c6a",
   "metadata": {},
   "outputs": [],
   "source": [
    "# dataframe without the outlier data\n",
    "dataF_without_outlier = dataF.drop(dataF[(dataF['lat'] < -100) & (dataF['long'] > 100)].index)"
   ]
  },
  {
   "cell_type": "code",
   "execution_count": 127,
   "id": "b274b1cb",
   "metadata": {},
   "outputs": [
    {
     "data": {
      "text/html": [
       "<div>\n",
       "<style scoped>\n",
       "    .dataframe tbody tr th:only-of-type {\n",
       "        vertical-align: middle;\n",
       "    }\n",
       "\n",
       "    .dataframe tbody tr th {\n",
       "        vertical-align: top;\n",
       "    }\n",
       "\n",
       "    .dataframe thead th {\n",
       "        text-align: right;\n",
       "    }\n",
       "</style>\n",
       "<table border=\"1\" class=\"dataframe\">\n",
       "  <thead>\n",
       "    <tr style=\"text-align: right;\">\n",
       "      <th></th>\n",
       "      <th>lat</th>\n",
       "      <th>long</th>\n",
       "    </tr>\n",
       "  </thead>\n",
       "  <tbody>\n",
       "    <tr>\n",
       "      <th>0</th>\n",
       "      <td>-121.531419</td>\n",
       "      <td>-129.938929</td>\n",
       "    </tr>\n",
       "    <tr>\n",
       "      <th>1</th>\n",
       "      <td>-134.917019</td>\n",
       "      <td>-130.141832</td>\n",
       "    </tr>\n",
       "    <tr>\n",
       "      <th>2</th>\n",
       "      <td>-120.605951</td>\n",
       "      <td>-125.760932</td>\n",
       "    </tr>\n",
       "  </tbody>\n",
       "</table>\n",
       "</div>"
      ],
      "text/plain": [
       "          lat        long\n",
       "0 -121.531419 -129.938929\n",
       "1 -134.917019 -130.141832\n",
       "2 -120.605951 -125.760932"
      ]
     },
     "execution_count": 127,
     "metadata": {},
     "output_type": "execute_result"
    }
   ],
   "source": [
    "dataF_without_outlier.head(3)"
   ]
  },
  {
   "cell_type": "code",
   "execution_count": 128,
   "id": "be6bdc9c",
   "metadata": {},
   "outputs": [
    {
     "data": {
      "image/png": "[encoded data removed]",
      "text/plain": [
       "<Figure size 432x288 with 1 Axes>"
      ]
     },
     "metadata": {
      "needs_background": "light"
     },
     "output_type": "display_data"
    }
   ],
   "source": [
    "# scatter plot without any outlier data\n",
    "plt.scatter(dataF_without_outlier['lat'], dataF_without_outlier['long'], c =\"red\")\n",
    "plt.show()"
   ]
  },
  {
   "cell_type": "code",
   "execution_count": 129,
   "id": "10330642",
   "metadata": {},
   "outputs": [
    {
     "data": {
      "text/html": [
       "<style type=\"text/css\">\n",
       "#T_39fbf_row0_col0, #T_39fbf_row1_col1 {\n",
       "  background-color: #023858;\n",
       "  color: #f1f1f1;\n",
       "}\n",
       "#T_39fbf_row0_col1, #T_39fbf_row1_col0 {\n",
       "  background-color: #fff7fb;\n",
       "  color: #000000;\n",
       "}\n",
       "</style>\n",
       "<table id=\"T_39fbf\">\n",
       "  <thead>\n",
       "    <tr>\n",
       "      <th class=\"blank level0\" >&nbsp;</th>\n",
       "      <th id=\"T_39fbf_level0_col0\" class=\"col_heading level0 col0\" >lat</th>\n",
       "      <th id=\"T_39fbf_level0_col1\" class=\"col_heading level0 col1\" >long</th>\n",
       "    </tr>\n",
       "  </thead>\n",
       "  <tbody>\n",
       "    <tr>\n",
       "      <th id=\"T_39fbf_level0_row0\" class=\"row_heading level0 row0\" >lat</th>\n",
       "      <td id=\"T_39fbf_row0_col0\" class=\"data row0 col0\" >1.000000</td>\n",
       "      <td id=\"T_39fbf_row0_col1\" class=\"data row0 col1\" >0.672522</td>\n",
       "    </tr>\n",
       "    <tr>\n",
       "      <th id=\"T_39fbf_level0_row1\" class=\"row_heading level0 row1\" >long</th>\n",
       "      <td id=\"T_39fbf_row1_col0\" class=\"data row1 col0\" >0.672522</td>\n",
       "      <td id=\"T_39fbf_row1_col1\" class=\"data row1 col1\" >1.000000</td>\n",
       "    </tr>\n",
       "  </tbody>\n",
       "</table>\n"
      ],
      "text/plain": [
       "<pandas.io.formats.style.Styler at 0x18a80252880>"
      ]
     },
     "execution_count": 129,
     "metadata": {},
     "output_type": "execute_result"
    }
   ],
   "source": [
    "# getting correlation values\n",
    "dataF_without_outlier.corr().style.background_gradient()"
   ]
  },
  {
   "cell_type": "code",
   "execution_count": 130,
   "id": "b09bdf01",
   "metadata": {},
   "outputs": [],
   "source": [
    "# seperating the dependent variable data from independent data \n",
    "X = dataF_without_outlier.iloc[:, :-1].values\n",
    "y = dataF_without_outlier.iloc[:, 1].values"
   ]
  },
  {
   "cell_type": "code",
   "execution_count": null,
   "id": "69a95293",
   "metadata": {},
   "outputs": [],
   "source": []
  },
  {
   "cell_type": "code",
   "execution_count": 131,
   "id": "2370f658",
   "metadata": {},
   "outputs": [],
   "source": [
    "# splitting the data into train_test for training\n",
    "X_train, X_test, y_train, y_test = train_test_split(X, y, test_size=0.2, random_state=0)"
   ]
  },
  {
   "cell_type": "markdown",
   "id": "d490adda",
   "metadata": {},
   "source": [
    "### Linear Regression"
   ]
  },
  {
   "cell_type": "code",
   "execution_count": 132,
   "id": "58fc3825",
   "metadata": {},
   "outputs": [
    {
     "data": {
      "text/plain": [
       "LinearRegression()"
      ]
     },
     "execution_count": 132,
     "metadata": {},
     "output_type": "execute_result"
    }
   ],
   "source": [
    "# implementing the linear Regression\n",
    "reg = LinearRegression()\n",
    "reg.fit(X_train, y_train)"
   ]
  },
  {
   "cell_type": "code",
   "execution_count": 133,
   "id": "b47e4724",
   "metadata": {},
   "outputs": [
    {
     "data": {
      "text/plain": [
       "-39.16782785422419"
      ]
     },
     "execution_count": 133,
     "metadata": {},
     "output_type": "execute_result"
    }
   ],
   "source": [
    "reg.intercept_"
   ]
  },
  {
   "cell_type": "code",
   "execution_count": 134,
   "id": "d6ba9f55",
   "metadata": {},
   "outputs": [
    {
     "data": {
      "text/plain": [
       "array([0.53872541])"
      ]
     },
     "execution_count": 134,
     "metadata": {},
     "output_type": "execute_result"
    }
   ],
   "source": [
    "reg.coef_"
   ]
  },
  {
   "cell_type": "code",
   "execution_count": 135,
   "id": "7c94ab8c",
   "metadata": {},
   "outputs": [],
   "source": [
    "# predicting the result\n",
    "y_pred = reg.predict(X_test)"
   ]
  },
  {
   "cell_type": "code",
   "execution_count": 136,
   "id": "c44330ac",
   "metadata": {},
   "outputs": [
    {
     "data": {
      "text/html": [
       "<div>\n",
       "<style scoped>\n",
       "    .dataframe tbody tr th:only-of-type {\n",
       "        vertical-align: middle;\n",
       "    }\n",
       "\n",
       "    .dataframe tbody tr th {\n",
       "        vertical-align: top;\n",
       "    }\n",
       "\n",
       "    .dataframe thead th {\n",
       "        text-align: right;\n",
       "    }\n",
       "</style>\n",
       "<table border=\"1\" class=\"dataframe\">\n",
       "  <thead>\n",
       "    <tr style=\"text-align: right;\">\n",
       "      <th></th>\n",
       "      <th>Actual</th>\n",
       "      <th>Predicted</th>\n",
       "    </tr>\n",
       "  </thead>\n",
       "  <tbody>\n",
       "    <tr>\n",
       "      <th>0</th>\n",
       "      <td>-78.951450</td>\n",
       "      <td>-41.167577</td>\n",
       "    </tr>\n",
       "    <tr>\n",
       "      <th>1</th>\n",
       "      <td>-44.392207</td>\n",
       "      <td>-5.093534</td>\n",
       "    </tr>\n",
       "    <tr>\n",
       "      <th>2</th>\n",
       "      <td>-72.945438</td>\n",
       "      <td>-8.681064</td>\n",
       "    </tr>\n",
       "    <tr>\n",
       "      <th>3</th>\n",
       "      <td>-78.717102</td>\n",
       "      <td>-41.645524</td>\n",
       "    </tr>\n",
       "    <tr>\n",
       "      <th>4</th>\n",
       "      <td>99.544820</td>\n",
       "      <td>24.060326</td>\n",
       "    </tr>\n",
       "    <tr>\n",
       "      <th>...</th>\n",
       "      <td>...</td>\n",
       "      <td>...</td>\n",
       "    </tr>\n",
       "    <tr>\n",
       "      <th>210</th>\n",
       "      <td>80.264127</td>\n",
       "      <td>15.638757</td>\n",
       "    </tr>\n",
       "    <tr>\n",
       "      <th>211</th>\n",
       "      <td>-52.684819</td>\n",
       "      <td>-20.841251</td>\n",
       "    </tr>\n",
       "    <tr>\n",
       "      <th>212</th>\n",
       "      <td>-70.000000</td>\n",
       "      <td>-47.446243</td>\n",
       "    </tr>\n",
       "    <tr>\n",
       "      <th>213</th>\n",
       "      <td>127.000000</td>\n",
       "      <td>25.820413</td>\n",
       "    </tr>\n",
       "    <tr>\n",
       "      <th>214</th>\n",
       "      <td>-53.582196</td>\n",
       "      <td>-97.675802</td>\n",
       "    </tr>\n",
       "  </tbody>\n",
       "</table>\n",
       "<p>215 rows × 2 columns</p>\n",
       "</div>"
      ],
      "text/plain": [
       "         Actual  Predicted\n",
       "0    -78.951450 -41.167577\n",
       "1    -44.392207  -5.093534\n",
       "2    -72.945438  -8.681064\n",
       "3    -78.717102 -41.645524\n",
       "4     99.544820  24.060326\n",
       "..          ...        ...\n",
       "210   80.264127  15.638757\n",
       "211  -52.684819 -20.841251\n",
       "212  -70.000000 -47.446243\n",
       "213  127.000000  25.820413\n",
       "214  -53.582196 -97.675802\n",
       "\n",
       "[215 rows x 2 columns]"
      ]
     },
     "execution_count": 136,
     "metadata": {},
     "output_type": "execute_result"
    }
   ],
   "source": [
    "compare_test_pred = pd.DataFrame({'Actual': y_test, 'Predicted': y_pred})\n",
    "compare_test_pred"
   ]
  },
  {
   "cell_type": "code",
   "execution_count": 137,
   "id": "cdb33564",
   "metadata": {},
   "outputs": [],
   "source": [
    "# evluation metric is created for comparision\n",
    "linear_metrics = [metrics.mean_absolute_error(y_test, y_pred),metrics.mean_squared_error(y_test, y_pred),\n",
    "                  np.sqrt(metrics.mean_squared_error(y_test, y_pred)), metrics.r2_score(y_test, y_pred)]"
   ]
  },
  {
   "cell_type": "code",
   "execution_count": 138,
   "id": "878e5a4d",
   "metadata": {},
   "outputs": [
    {
     "data": {
      "image/png": "[encoded data removed]",
      "text/plain": [
       "<Figure size 432x288 with 1 Axes>"
      ]
     },
     "metadata": {
      "needs_background": "light"
     },
     "output_type": "display_data"
    }
   ],
   "source": [
    "# plotting linear Regression\n",
    "plt.scatter(X, y, color = 'blue')\n",
    " \n",
    "plt.plot(X, reg.predict(X), color = 'red')\n",
    "plt.title('Linear Regression')\n",
    "plt.xlabel('X')\n",
    "plt.ylabel('Y')\n",
    " \n",
    "plt.show()"
   ]
  },
  {
   "cell_type": "markdown",
   "id": "1504d83f",
   "metadata": {},
   "source": [
    "### Polynomial regression"
   ]
  },
  {
   "cell_type": "code",
   "execution_count": 139,
   "id": "9e349c33",
   "metadata": {},
   "outputs": [
    {
     "data": {
      "text/plain": [
       "LinearRegression()"
      ]
     },
     "execution_count": 139,
     "metadata": {},
     "output_type": "execute_result"
    }
   ],
   "source": [
    "# here it is tested with different value of degree = 2,3,4,5,6\n",
    "poly = PolynomialFeatures(degree = 4)\n",
    "X_poly = poly.fit_transform(X)\n",
    "poly.fit(X_poly, y)\n",
    "poly_reg = LinearRegression()\n",
    "poly_reg.fit(X_poly, y)"
   ]
  },
  {
   "cell_type": "code",
   "execution_count": 140,
   "id": "69488403",
   "metadata": {},
   "outputs": [
    {
     "data": {
      "image/png": "[encoded data removed]",
      "text/plain": [
       "<Figure size 432x288 with 1 Axes>"
      ]
     },
     "metadata": {
      "needs_background": "light"
     },
     "output_type": "display_data"
    }
   ],
   "source": [
    "# Plotting the Polynomial Regression\n",
    "plt.scatter(X, y, color = 'blue')\n",
    "plt.plot(X, poly_reg.predict(poly.fit_transform(X)), color = 'red')\n",
    "plt.title('Polynomial Regression')\n",
    "plt.xlabel('X')\n",
    "plt.ylabel('Y')\n",
    "plt.show()"
   ]
  },
  {
   "cell_type": "code",
   "execution_count": 141,
   "id": "d7c228e9",
   "metadata": {},
   "outputs": [],
   "source": [
    "# Prediction of Polynomial Regeression Result\n",
    "y_poly_pred = poly_reg.predict(poly.fit_transform(X_test))"
   ]
  },
  {
   "cell_type": "code",
   "execution_count": 142,
   "id": "1886718e",
   "metadata": {},
   "outputs": [
    {
     "data": {
      "text/html": [
       "<div>\n",
       "<style scoped>\n",
       "    .dataframe tbody tr th:only-of-type {\n",
       "        vertical-align: middle;\n",
       "    }\n",
       "\n",
       "    .dataframe tbody tr th {\n",
       "        vertical-align: top;\n",
       "    }\n",
       "\n",
       "    .dataframe thead th {\n",
       "        text-align: right;\n",
       "    }\n",
       "</style>\n",
       "<table border=\"1\" class=\"dataframe\">\n",
       "  <thead>\n",
       "    <tr style=\"text-align: right;\">\n",
       "      <th></th>\n",
       "      <th>Actual</th>\n",
       "      <th>Predicted</th>\n",
       "    </tr>\n",
       "  </thead>\n",
       "  <tbody>\n",
       "    <tr>\n",
       "      <th>0</th>\n",
       "      <td>-78.951450</td>\n",
       "      <td>-81.983728</td>\n",
       "    </tr>\n",
       "    <tr>\n",
       "      <th>1</th>\n",
       "      <td>-44.392207</td>\n",
       "      <td>-32.746957</td>\n",
       "    </tr>\n",
       "    <tr>\n",
       "      <th>2</th>\n",
       "      <td>-72.945438</td>\n",
       "      <td>-44.375225</td>\n",
       "    </tr>\n",
       "    <tr>\n",
       "      <th>3</th>\n",
       "      <td>-78.717102</td>\n",
       "      <td>-81.671114</td>\n",
       "    </tr>\n",
       "    <tr>\n",
       "      <th>4</th>\n",
       "      <td>99.544820</td>\n",
       "      <td>96.123423</td>\n",
       "    </tr>\n",
       "    <tr>\n",
       "      <th>...</th>\n",
       "      <td>...</td>\n",
       "      <td>...</td>\n",
       "    </tr>\n",
       "    <tr>\n",
       "      <th>210</th>\n",
       "      <td>80.264127</td>\n",
       "      <td>55.530667</td>\n",
       "    </tr>\n",
       "    <tr>\n",
       "      <th>211</th>\n",
       "      <td>-52.684819</td>\n",
       "      <td>-72.936501</td>\n",
       "    </tr>\n",
       "    <tr>\n",
       "      <th>212</th>\n",
       "      <td>-70.000000</td>\n",
       "      <td>-76.356589</td>\n",
       "    </tr>\n",
       "    <tr>\n",
       "      <th>213</th>\n",
       "      <td>127.000000</td>\n",
       "      <td>104.452358</td>\n",
       "    </tr>\n",
       "    <tr>\n",
       "      <th>214</th>\n",
       "      <td>-53.582196</td>\n",
       "      <td>-55.381471</td>\n",
       "    </tr>\n",
       "  </tbody>\n",
       "</table>\n",
       "<p>215 rows × 2 columns</p>\n",
       "</div>"
      ],
      "text/plain": [
       "         Actual   Predicted\n",
       "0    -78.951450  -81.983728\n",
       "1    -44.392207  -32.746957\n",
       "2    -72.945438  -44.375225\n",
       "3    -78.717102  -81.671114\n",
       "4     99.544820   96.123423\n",
       "..          ...         ...\n",
       "210   80.264127   55.530667\n",
       "211  -52.684819  -72.936501\n",
       "212  -70.000000  -76.356589\n",
       "213  127.000000  104.452358\n",
       "214  -53.582196  -55.381471\n",
       "\n",
       "[215 rows x 2 columns]"
      ]
     },
     "execution_count": 142,
     "metadata": {},
     "output_type": "execute_result"
    }
   ],
   "source": [
    "compare_test_poly_pred = pd.DataFrame({'Actual': y_test, 'Predicted': y_poly_pred})\n",
    "compare_test_poly_pred"
   ]
  },
  {
   "cell_type": "code",
   "execution_count": 143,
   "id": "8981f8ac",
   "metadata": {},
   "outputs": [],
   "source": [
    "# Evluation metric is created for comparision\n",
    "poly_metrics = [metrics.mean_absolute_error(y_test, y_poly_pred),metrics.mean_squared_error(y_test, y_poly_pred),\n",
    "                np.sqrt(metrics.mean_squared_error(y_test, y_poly_pred)), metrics.r2_score(y_test, y_poly_pred)]"
   ]
  },
  {
   "cell_type": "code",
   "execution_count": 144,
   "id": "f60ffae1",
   "metadata": {},
   "outputs": [],
   "source": [
    "compare_test_poly_pred = pd.DataFrame({'linear_regression': linear_metrics, 'polynomial_regression': poly_metrics},\n",
    "                                     index = ['MAE', 'MSE', 'RMSE', 'R-Square'])"
   ]
  },
  {
   "cell_type": "markdown",
   "id": "f88b404e",
   "metadata": {},
   "source": [
    "### Differernt Evalution Metrics with the values for both models"
   ]
  },
  {
   "cell_type": "code",
   "execution_count": 145,
   "id": "bc8fcaa4",
   "metadata": {},
   "outputs": [
    {
     "data": {
      "text/html": [
       "<div>\n",
       "<style scoped>\n",
       "    .dataframe tbody tr th:only-of-type {\n",
       "        vertical-align: middle;\n",
       "    }\n",
       "\n",
       "    .dataframe tbody tr th {\n",
       "        vertical-align: top;\n",
       "    }\n",
       "\n",
       "    .dataframe thead th {\n",
       "        text-align: right;\n",
       "    }\n",
       "</style>\n",
       "<table border=\"1\" class=\"dataframe\">\n",
       "  <thead>\n",
       "    <tr style=\"text-align: right;\">\n",
       "      <th></th>\n",
       "      <th>linear_regression</th>\n",
       "      <th>polynomial_regression</th>\n",
       "    </tr>\n",
       "  </thead>\n",
       "  <tbody>\n",
       "    <tr>\n",
       "      <th>MAE</th>\n",
       "      <td>42.225921</td>\n",
       "      <td>17.980637</td>\n",
       "    </tr>\n",
       "    <tr>\n",
       "      <th>MSE</th>\n",
       "      <td>2581.792256</td>\n",
       "      <td>539.312462</td>\n",
       "    </tr>\n",
       "    <tr>\n",
       "      <th>RMSE</th>\n",
       "      <td>50.811340</td>\n",
       "      <td>23.223102</td>\n",
       "    </tr>\n",
       "    <tr>\n",
       "      <th>R-Square</th>\n",
       "      <td>0.499248</td>\n",
       "      <td>0.895398</td>\n",
       "    </tr>\n",
       "  </tbody>\n",
       "</table>\n",
       "</div>"
      ],
      "text/plain": [
       "          linear_regression  polynomial_regression\n",
       "MAE               42.225921              17.980637\n",
       "MSE             2581.792256             539.312462\n",
       "RMSE              50.811340              23.223102\n",
       "R-Square           0.499248               0.895398"
      ]
     },
     "execution_count": 145,
     "metadata": {},
     "output_type": "execute_result"
    }
   ],
   "source": [
    "compare_test_poly_pred"
   ]
  },
  {
   "cell_type": "code",
   "execution_count": 146,
   "id": "e132982e",
   "metadata": {},
   "outputs": [],
   "source": [
    "# It is observed that Polynomial regression gives less error and high R-square value\n",
    "# which shows that Polynomial regression is better than other models.."
   ]
  },
  {
   "cell_type": "code",
   "execution_count": null,
   "id": "612808fc",
   "metadata": {},
   "outputs": [],
   "source": []
  },
  {
   "cell_type": "code",
   "execution_count": null,
   "id": "5d006ba0",
   "metadata": {},
   "outputs": [],
   "source": []
  }
 ],
 "metadata": {
  "kernelspec": {
   "display_name": "Python 3 (ipykernel)",
   "language": "python",
   "name": "python3"
  },
  "language_info": {
   "codemirror_mode": {
    "name": "ipython",
    "version": 3
   },
   "file_extension": ".py",
   "mimetype": "text/x-python",
   "name": "python",
   "nbconvert_exporter": "python",
   "pygments_lexer": "ipython3",
   "version": "3.9.12"
  }
 },
 "nbformat": 4,
 "nbformat_minor": 5
}
